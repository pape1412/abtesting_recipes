{
 "cells": [
  {
   "cell_type": "markdown",
   "metadata": {},
   "source": [
    "# A/B Testing - Permutation Test"
   ]
  },
  {
   "cell_type": "markdown",
   "metadata": {},
   "source": [
    "Similar to bootstrap hypothesis tests permutation tests __don't make any distributional assumptions__ as one might know from a $t$-test. In fact, $t$-test are referred to as ['computationally feasible approximations to permutation tests given the computers of the 1920's young woman'](https://arxiv.org/pdf/1411.5279.pdf). As opposed to boostrap hypothesis tests, where our boostrap distribution is centered at the observed statistic of our test (e.g. difference in means), permutation tests require us to __resample our observations in a way that is consistent with the null hypothesis__. In order to do so we pool the observations of both test and control group, then pick $n_1$ observations withouth replacement and label them as first sample and label the other obersations as the second sample. Here, $n_1$ represents the size of e.g. our test group. This is equivalent to randomly permuting all the labels. Finally, we compute that test statistic of interest (e.g. difference in means) and make inference (please see [below](#Permutation-Test) for full implementation details).\n",
    "\n",
    "Again, permutation test allow us to __work directly with the statistic of interest__ and generalize to metrics other than means. Permutation tests are __also called 'exact' tests__ where 'exact' refers to a test where all underlying assumptions for deriving a test statistic are met. However, what's important to note is that we __can only test \"non-zero\" hypotheses__ ($H0: \\mu_1 − \\mu_2$ = 0) and we __can not use them to obtain confidence intervals__. Last but not least, we cannot test the equality of means when the variances differ. Please note, we don’t need the sample variances to be the same; if the population is positively skewed then the sample with the larger mean naturally has a larger sample variance. What matters is whether the population variances differ when the null hypothesis holds (exchangeability assumption)."
   ]
  },
  {
   "cell_type": "markdown",
   "metadata": {},
   "source": [
    "## Prepare Data"
   ]
  },
  {
   "cell_type": "code",
   "execution_count": 1,
   "metadata": {},
   "outputs": [],
   "source": [
    "# Read in sample data\n",
    "data_control <- read.csv2(\"data/test_data_control.csv\")$x\n",
    "data_test <- read.csv2(\"data/test_data_test.csv\")$x"
   ]
  },
  {
   "cell_type": "code",
   "execution_count": 2,
   "metadata": {},
   "outputs": [
    {
     "name": "stdout",
     "output_type": "stream",
     "text": [
      "[1] \"Control group sample size: 1322095 & mean: 0.69085 & SD: 2.37184\"\n",
      "[1] \"Test group sample size: 1322111 & mean: 0.69797 & SD: 2.41535\"\n"
     ]
    }
   ],
   "source": [
    "# Compare means and standard deviations\n",
    "print(paste(\"Control group sample size:\", length(data_control),\n",
    "            \"& mean:\", round(mean(data_control), 5),\n",
    "            \"& SD:\", round(sd(data_control), 5)))\n",
    "print(paste(\"Test group sample size:\", length(data_test),\n",
    "            \"& mean:\", round(mean(data_test), 5),\n",
    "            \"& SD:\", round(sd(data_test), 5)))"
   ]
  },
  {
   "cell_type": "code",
   "execution_count": 3,
   "metadata": {},
   "outputs": [
    {
     "name": "stdout",
     "output_type": "stream",
     "text": [
      "   90%    99%  99.9% 99.99% \n",
      "     2     11     24     50 \n",
      "   90%    99%  99.9% 99.99% \n",
      "     2     11     25     50 \n"
     ]
    }
   ],
   "source": [
    "# Check for outliers ...\n",
    "print(quantile(data_control, probs=c(0.9, 0.99, 0.999, 0.9999)))\n",
    "print(quantile(data_test, probs=c(0.9, 0.99, 0.999, 0.9999)))\n",
    "\n",
    "# ... and remove if considered to be necessary\n",
    "#data_control <- data_control[data_control <= quantile(data_control, probs=0.9999)]\n",
    "#data_test <- data_test[data_test <= quantile(data_test, probs=0.9999)]"
   ]
  },
  {
   "cell_type": "markdown",
   "metadata": {},
   "source": [
    "## Test Statistic\n",
    "Even though we use sample means for the comparison of test and control groups most of the time we could also use __any other test statistic of interest__. What's really nice about permutation tests is that we don't need to learn how to conduct another test if we wanted to compare other statistics but means. Instead we can apply the same methodology that we are already familiar with."
   ]
  },
  {
   "cell_type": "code",
   "execution_count": 4,
   "metadata": {},
   "outputs": [
    {
     "data": {
      "text/html": [
       "0"
      ],
      "text/latex": [
       "0"
      ],
      "text/markdown": [
       "0"
      ],
      "text/plain": [
       "[1] 0"
      ]
     },
     "metadata": {},
     "output_type": "display_data"
    },
    {
     "data": {
      "text/html": [
       "0.00712190304414284"
      ],
      "text/latex": [
       "0.00712190304414284"
      ],
      "text/markdown": [
       "0.00712190304414284"
      ],
      "text/plain": [
       "[1] 0.007121903"
      ]
     },
     "metadata": {},
     "output_type": "display_data"
    }
   ],
   "source": [
    "# Test statistic for comparison (e.g. mean or variance)\n",
    "diff.vars  <- function(x,y) var(x) - var(y)\n",
    "diff.means <- function(x,y) mean(x) - mean(y)\n",
    "\n",
    "# H0: There is no difference between test & control groups\n",
    "# H0: mean(a) - mean(a) = 0\n",
    "h0 <- 0\n",
    "h0\n",
    "\n",
    "# Observed difference between groups  (e.g. mean or variance)\n",
    "obs.diff <- diff.vars(data_test, data_control)\n",
    "obs.diff <- diff.means(data_test, data_control)\n",
    "obs.diff"
   ]
  },
  {
   "cell_type": "markdown",
   "metadata": {},
   "source": [
    "## Permutation Test\n",
    "The process for comparing two independent samples of an A/B test via permutation test can be outlined as follows (for implementation details see function below):\n",
    "1. __Pool__ values of both __samples__ s1 and s2 i.e. test and control group\n",
    "2. __Repeat__ $r \\ge$ 10000 times:\n",
    "    - __Draw random samples__ of size n1 without replacement from pooled samples representing estimates of the population\n",
    "    - __Use remaining n2 observations__ for other sample\n",
    "    - __Compute the test statistic__ of interest e.g. the difference in means\n",
    "2. __Make inference__ on the resulting distribution i.e. the distribution of the test statistics by calculating a __p-value__ as the fraction of times the random test statistic exceeds or is equal to the observered statistic (e.g. difference in means)"
   ]
  },
  {
   "cell_type": "code",
   "execution_count": 9,
   "metadata": {},
   "outputs": [],
   "source": [
    "# Permutation test function\n",
    "permutation.test <- function(x, y, test.statistic, resamples=1000) {\n",
    "    # Runs two sample permutation test for test statistic of interest\n",
    "    #\n",
    "    # Args:\n",
    "    # - x: Vector with data for either test or control group\n",
    "    # - y: Vector with data for either test or control group\n",
    "    # - test.statistic: A function which compares groups\n",
    "    # - resamples: Number of random permutations (defaults to 1000)\n",
    "    #\n",
    "    # Returns:\n",
    "    # Distribution of test statistic\n",
    "    \n",
    "    # Pool data\n",
    "    data.combined <- c(x, y)\n",
    "  \n",
    "    # Get n random permutations of indices with size of experiment group\n",
    "    permutations <- replicate(resamples, sample(1:length(data.combined), length(x)))\n",
    "  \n",
    "    # Apply test statistics for each permutation and return all results\n",
    "    apply(permutations, 2, function(permutations) {\n",
    "        # data.combined[permutations] is test sample\n",
    "        # data.combined[-permutations] is control sample\n",
    "        test.statistic(data.combined[permutations], data.combined[-permutations])\n",
    "    })\n",
    "}"
   ]
  },
  {
   "cell_type": "markdown",
   "metadata": {},
   "source": [
    "## P-Value\n",
    "While bootstrap hypothesis tests use confidence intervals to declare the __difference between two samples significant__ or not, __permutation tests use p-values__. Remember, a p-value represents the probability of observing a test statistic greater than or equal to the observed statistic (e.g. difference in means) given the null hypothesis is true. Applied to permutation tests the p-value tells us how likely it is that the random labeling of observations results in e.g. a difference as large the observed one. Given an alpha level of $\\alpha = 0.05$ a p-value smaller than $\\alpha$ says that a difference this large is very unlikely to happen by chance, hence is significant.\n",
    "\n",
    "The __one-sided p-value__ is being calculated as the __fraction of times the random statistic is at least as large as the observed one__. We add 1 to numerator and denominator to avoid the equation to break:\n",
    "\\begin{equation*}\n",
    "\\ \\frac{x+1}{r+1}\n",
    "\\end{equation*}\n",
    "\n",
    "\n",
    "where $x$ represents the number of times that $\\hat{\\theta}^* ≥ \\hat{\\theta}$ for upper p-values and $\\hat{\\theta}^* ≤ \\hat{\\theta}$ for lower p-values. $\\hat{\\theta}$ is our random test statistic and $*$ denotes the observed statistic. $r$ represents the number of resamples. A __two-sided p-value__ is computed by using both upper and lower p-values and __multiplying the smaller one by 2__."
   ]
  },
  {
   "cell_type": "code",
   "execution_count": 10,
   "metadata": {},
   "outputs": [],
   "source": [
    "# P-value function\n",
    "permutation.pval <- function(test.results, obs.diff, type='two.sided') {\n",
    "    # Calculates p-value of permutation test of interest as probability\n",
    "    # of observing an effect at least as extreme as the observed difference\n",
    "    # between two samples\n",
    "    #\n",
    "    # Args:\n",
    "    # - test.results: Results of permutation test\n",
    "    # - obs.diff: Vector with data for either test or control group\n",
    "    # - type: A function which compares groups\n",
    "    #\n",
    "    # Returns:\n",
    "    # P-value\n",
    "    \n",
    "    # Replications at least as extreme as observed value\n",
    "    x <-  sum(permutation.results >= obs.diff)\n",
    "    \n",
    "    # Number of permutations\n",
    "    r <- length(permutation.results)\n",
    "    \n",
    "    # Upper and lower p-values (+1 as correction factor)\n",
    "    p.upper <- round((x + 1) / (r + 1), 4)\n",
    "    p.lower <- round((r - x  + 1) / (r + 1), 4)\n",
    "    \n",
    "    if (type == 'two.sided') {\n",
    "        return(min(p.upper, p.lower) * 2)\n",
    "    } else if (type == 'upper') {\n",
    "        return(p.upper)\n",
    "    } else if (type == 'lower') {\n",
    "        return(p.lower)\n",
    "    }\n",
    "}"
   ]
  },
  {
   "cell_type": "markdown",
   "metadata": {},
   "source": [
    "## Results\n",
    "Finally, we can do both run the permutation test and calculate its corresponding p-value before making final decision on rejecting/accepting $H0$. Then, we can plot a histrogram of our permutation distribution (e.g. distribution of difference in means), add in the value of our null hypothesis and the observed difference between samples and make inference. If the __p-value is less than our accepted threshold we will reject $H0$__. Nonetheless, we can never be completely sure that the null hypothesis is false as we only make inference based on the data."
   ]
  },
  {
   "cell_type": "code",
   "execution_count": 11,
   "metadata": {},
   "outputs": [],
   "source": [
    "# Run permutation test and compute p-value as probability\n",
    "# of observing an effect at least as extreme as observed difference\n",
    "# Reject H0 is p-value does not satisfy threshold of Type I error rate (alpha)\n",
    "# This may take a while to run dependent on the number of resamples\n",
    "alpha <- 0.05\n",
    "resamples <- 1000\n",
    "permutation.results <- permutation.test(data_test, data_control, diff.means, resamples)\n",
    "p.val <- permutation.pval(permutation.results, obs.diff, type='two.sided')"
   ]
  },
  {
   "cell_type": "code",
   "execution_count": 18,
   "metadata": {},
   "outputs": [
    {
     "data": {
      "image/png": "[encoded data removed]",
      "text/plain": [
       "Plot with title “Permutation Distribution of Difference in Means”"
      ]
     },
     "metadata": {},
     "output_type": "display_data"
    }
   ],
   "source": [
    "# Set plot size (specific to jupyter notebook)\n",
    "require(repr)\n",
    "options(repr.plot.width=8, repr.plot.height=4)\n",
    "\n",
    "# Plot results\n",
    "hist(permutation.results,\n",
    "     breaks = 100,\n",
    "     prob = T,\n",
    "     main = \"Permutation Distribution of Difference in Means\",\n",
    "     xlim = c(min(permutation.results, obs.diff), max(permutation.results, obs.diff)), \n",
    "     sub = ifelse(\n",
    "         p.val > alpha, \n",
    "         paste0(\"H0 can not be rejected at alpha <= \", alpha),\n",
    "         paste0(\"H0 can be rejected at alpha <= \", alpha)),\n",
    "     xlab = paste(\n",
    "         \"Permutation test p-value p =\", p.val, \" for\", resamples, \"permutations\"))\n",
    "\n",
    "\n",
    "# Add H0 and observed difference between groups\n",
    "abline(v = h0, lty = 2, col = \"black\")\n",
    "abline(v = obs.diff, lty = 2, col = \"red\")"
   ]
  },
  {
   "cell_type": "markdown",
   "metadata": {},
   "source": [
    "## Comparison\n",
    "The following cell is meant to give you an idea on how hypothesis testing based on permutation tests compares to a standard $t$-test. Especially with sample sizes as large as the sample data used in this notebook each of the tests comes to the same result of rejecting $H0$."
   ]
  },
  {
   "cell_type": "code",
   "execution_count": 17,
   "metadata": {},
   "outputs": [
    {
     "data": {
      "text/html": [
       "<span style=white-space:pre-wrap>'Permutation test p-value:  0.012'</span>"
      ],
      "text/latex": [
       "'Permutation test p-value:  0.012'"
      ],
      "text/markdown": [
       "<span style=white-space:pre-wrap>'Permutation test p-value:  0.012'</span>"
      ],
      "text/plain": [
       "[1] \"Permutation test p-value:  0.012\""
      ]
     },
     "metadata": {},
     "output_type": "display_data"
    },
    {
     "data": {
      "text/html": [
       "<span style=white-space:pre-wrap>'T-test p-value:  0.0156'</span>"
      ],
      "text/latex": [
       "'T-test p-value:  0.0156'"
      ],
      "text/markdown": [
       "<span style=white-space:pre-wrap>'T-test p-value:  0.0156'</span>"
      ],
      "text/plain": [
       "[1] \"T-test p-value:  0.0156\""
      ]
     },
     "metadata": {},
     "output_type": "display_data"
    }
   ],
   "source": [
    "# Compare permutation test and t-test p-values\n",
    "paste(\"Permutation test p-value: \", p.val)\n",
    "paste(\"T-test p-value: \", round(t.test(data_test, data_control)$p.val, 4))"
   ]
  },
  {
   "cell_type": "markdown",
   "metadata": {},
   "source": [
    "## References\n",
    "- [What Teachers Should Know about the Bootstrap](https://arxiv.org/pdf/1411.5279.pdf)\n",
    "- [Exact Test](https://en.wikipedia.org/wiki/Exact_test)"
   ]
  },
  {
   "cell_type": "code",
   "execution_count": null,
   "metadata": {},
   "outputs": [],
   "source": []
  }
 ],
 "metadata": {
  "kernelspec": {
   "display_name": "R",
   "language": "R",
   "name": "ir"
  },
  "language_info": {
   "codemirror_mode": "r",
   "file_extension": ".r",
   "mimetype": "text/x-r-source",
   "name": "R",
   "pygments_lexer": "r",
   "version": "3.6.2"
  }
 },
 "nbformat": 4,
 "nbformat_minor": 4
}
