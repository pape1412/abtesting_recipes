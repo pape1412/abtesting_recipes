{
 "cells": [
  {
   "cell_type": "markdown",
   "metadata": {},
   "source": [
    "# A/B Testing - Power Analysis"
   ]
  },
  {
   "cell_type": "markdown",
   "metadata": {},
   "source": [
    "Defining a desired boundary of practical significance in advance is very useful during the planning of an A/B test. Once you know the required minimum effect you expect and/or you need to achieve you can determine __how many observations__ are neccessary in order to achieve a desired level of measurement reliability. In situations where external constraints put a limit on our sample sizes you're able to work your way backwards and estimate a __minimum detectable effect__ for reaching a significant experiment result. Finally, this knowledge can be translated into __how long__ your test ultimately needs to run and whether or not it's feasible."
   ]
  },
  {
   "cell_type": "markdown",
   "metadata": {},
   "source": [
    "A power analysis allows you to calculated several statistical parameters of your test given others. In most of the cases, it is used to estimate a required sample size given some expected effect size as well as alpha and power levels. Details on each of the parameters are outlined below:\n",
    "\n",
    "__Alpha:__\n",
    "- P(Type I Error) = Probability of finding an effect when there is none (false positive)\n",
    "- Typically set to .05\n",
    "\n",
    "__Power:__\n",
    "- 1 - Beta = Probability of finding an effect when there is one (true positive)\n",
    "- Where Beta:\n",
    "    - P(Type II Error) = Probability of NOT finding an effect when there is one (false negative)\n",
    "- Typically set to .80\n",
    "\n",
    "__Effect size:__\n",
    "- Usually referred to as expected effect\n",
    "- Defined by\n",
    "    - Previous tests and/or educated guess\n",
    "    - Estimation (e.g. Cohen's d or Cohen's h)\n",
    "\n",
    "__N:__\n",
    "- Sample size (usually the parameter you are solving for)\n",
    "- May be known/fixed due to external constraints\n",
    "\n",
    "Since alpha and power are usually set to .05 and .80 your primary concern needs to be with the effect size. The most commonly asked question at this point is 'How can I know the expected effect when I haven’t run the test yet?'. Again, you should approach this question by thinking about your desired level of pracitical significance which is basically the threshold - once passed - that justifies the additional effort of rolling out the variation to all of your users. However, if you're unsure you can still refer back to more general effect size levels as shown for Cohen's d and Cohen's h below.\n",
    "\n",
    "\n",
    "__Please note:__ Although there are no formal standards for power, most researchers assess the power of their tests using .80 as a standard for adequacy. This convention implies a four-to-one trade off between β-risk and α-risk. (β is the probability of a Type II error, and α is the probability of a Type I error; .2 and .05 are conventional values for β and α). However, there will be times when this 4-to-1 weighting is inappropriate.\n",
    "\n",
    "__References:__\n",
    "- [USU](http://rgs.usu.edu/irb/wp-content/uploads/sites/12/2015/08/A_Researchers_Guide_to_Power_Analysis_USU.pdf)\n",
    "- [Wikipedia](https://en.wikipedia.org/wiki/Power_(statistics)"
   ]
  },
  {
   "cell_type": "markdown",
   "metadata": {},
   "source": [
    "### Effect Size"
   ]
  },
  {
   "cell_type": "markdown",
   "metadata": {},
   "source": [
    "#### Cohen's d\n",
    "Cohen’s d is a __standardized measure of the difference between two means__ from two normally distributed variables.\n",
    "It is defined as the difference between two means divided by the standard deviation of the data:\n",
    "\n",
    "\\begin{equation*}\n",
    "\\ d = \\frac{\\mu_1 - \\mu_2}{s}\n",
    "\\end{equation*}\n",
    "\n",
    "Cohen defined s, the pooled standard deviation, as (for two independent samples):\n",
    "\n",
    "\\begin{equation*}\n",
    "\\ s = \\sqrt{\\frac{(n_1 - 1)s_1^2  +  (n_2 - 1)s_2^2}{n_1 + n_2 - 2}}\n",
    "\\end{equation*}\n",
    "\n",
    "where the variance for one of the groups is defined as:\n",
    "\n",
    "\\begin{equation*}\n",
    "\\ s_1^2 = \\frac{1}{n_1-1} \\sum_{i=1}^{n_1}(x_{1i} - {\\bar{x_1}})^2\n",
    "\\end{equation*}\n",
    "\n",
    "and similar for the other group. Because it's a standardized measure there are specific thresholds which can be used to __interpret the effect size's magnitude__:\n",
    "- d = 0.01: Very small\n",
    "- d = 0.20: Small\n",
    "- d = 0.50: Medium\n",
    "- d = 0.80: Large\n",
    "- d = 1.20: Very large\n",
    "- d = 2.00: Huge\n",
    "\n",
    "__References:__\n",
    "- [Wikipedia](https://en.wikipedia.org/wiki/Effect_size#Cohen%27s_d)"
   ]
  },
  {
   "cell_type": "code",
   "execution_count": 4,
   "metadata": {},
   "outputs": [
    {
     "data": {
      "text/html": [
       "0.01"
      ],
      "text/latex": [
       "0.01"
      ],
      "text/markdown": [
       "0.01"
      ],
      "text/plain": [
       "[1] 0.01"
      ]
     },
     "metadata": {},
     "output_type": "display_data"
    }
   ],
   "source": [
    "# Effect size function for Cohen's d\n",
    "cohens_d <- function(x, y=NULL, mde=NULL){\n",
    "    # Estimates Cohen's d for two sample t-test\n",
    "    #\n",
    "    # Args:\n",
    "    # - x: Vector with data for control group\n",
    "    # - y: Vector with data for test group\n",
    "    # - mde: Minimum detectable effect (threshold of practical significance)\n",
    "    #\n",
    "    # Returns:\n",
    "    # - d: Cohen's d effect size\n",
    "  \n",
    "    if (!is.null(y)){\n",
    "        # Sample size\n",
    "        n1 <- min(length(x), 2)\n",
    "        n2 <- min(length(y), 2)\n",
    "        \n",
    "        # Difference in means\n",
    "        diff_means  <- abs(mean(x) - mean(y))\n",
    "        \n",
    "        # Pooled standard deviation\n",
    "        sd <- sqrt(((n1-1) * var(x) + (n2-1) * var(y)) / (n1 + n2 - 2))\n",
    "    \n",
    "    } else if (!is.null(mde)){\n",
    "        # Sample size\n",
    "        n1 <- max(length(x), 2)\n",
    "        n2 <- n1\n",
    "    \n",
    "        # Difference in means\n",
    "        diff_means  <- abs(mean(x) * (1+mde) - mean(x))\n",
    "    \n",
    "        # Pooled standard deviation assuming equal variances\n",
    "        sd <- sqrt(((n1-1) * var(x) + (n2-1) * var(x)) / (n1 + n2 - 2))\n",
    "    \n",
    "    } else {\n",
    "        stop('Please specify either y or mde.')\n",
    "    }\n",
    "\n",
    "    # Return Cohen's d\n",
    "    return(diff_means / sd)\n",
    "}\n",
    "\n",
    "\n",
    "# Effect size\n",
    "effect_size <- cohens_d(data_control, data_test)\n",
    "effect_size"
   ]
  },
  {
   "cell_type": "markdown",
   "metadata": {},
   "source": [
    "#### Cohen's h\n",
    "Similar to the above Cohen's h can be used as a standardized measure of the __difference between to means when dealing with two independent proportions__. Given two probability distributions or proportions p (between 0 and 1) it is defined as the difference between their arcsine transformations, i.e.:\n",
    "\n",
    "$\\ h = 2 \\arcsin (\\sqrt{p_1}) - 2 \\arcsin (\\sqrt{p_2}) $\n",
    "\n",
    "Sometimes, Cohens'h is referred to as \"directional h\" because, in addition to showing the magnitude of the difference, it shows which of the two proportions is greater. Nonetheless, often researchers report a \"non-directional h\", which is just the absolute value of the directional $\\ h = |h|$. Intepretations of magnitude are similar to Cohen's d as shown above:\n",
    "\n",
    "- h = 0.20: Small\n",
    "- h = 0.50: Medium\n",
    "- h = 0.80: Large\n",
    "\n",
    "__References:__\n",
    "- [Wikipedia](https://en.wikipedia.org/wiki/Cohen%27s_h)"
   ]
  },
  {
   "cell_type": "code",
   "execution_count": 5,
   "metadata": {},
   "outputs": [
    {
     "data": {
      "text/html": [
       "0.01"
      ],
      "text/latex": [
       "0.01"
      ],
      "text/markdown": [
       "0.01"
      ],
      "text/plain": [
       "[1] 0.01"
      ]
     },
     "metadata": {},
     "output_type": "display_data"
    }
   ],
   "source": [
    "# Effect size function for Cohen's h\n",
    "cohens_h <- function(x, y=NULL, mde=NULL){\n",
    "    # Estimates non-directional Cohen's h for two sample test of binomial proportions\n",
    "    #\n",
    "    # Args:\n",
    "    # - x: Either vector with data for control group or control group mean\n",
    "    # - y: Either vector with data for test group or test group mean\n",
    "    # - mde: Minimum detectable effect (threshold of practical significance)\n",
    "    #\n",
    "    # Returns:\n",
    "    # - h: Cohen's h effect size\n",
    "    \n",
    "    if (!is.null(y)){\n",
    "        # Proportions\n",
    "        p1 <- mean(x)\n",
    "        p2 <- mean(y)\n",
    "    \n",
    "    } else if (!is.null(mde)){\n",
    "        # Proportions\n",
    "        p1 <- mean(x)\n",
    "        p2 <- p1 * (1+mde)\n",
    "        \n",
    "    } else {\n",
    "        stop('Please specify either y or mde.')\n",
    "    }\n",
    "    \n",
    "    # Return Cohen's h\n",
    "    return(abs(2*asin(sqrt(p2)) - 2*asin(sqrt(p1))))\n",
    "}\n",
    "\n",
    "\n",
    "# (Non-directional) effect size\n",
    "effect_size <- cohens_h(data_control, data_test)\n",
    "effect_size"
   ]
  },
  {
   "cell_type": "markdown",
   "metadata": {},
   "source": [
    "### Sample Size Estimation"
   ]
  },
  {
   "cell_type": "markdown",
   "metadata": {},
   "source": [
    "#### Test for Two Independent Samples\n",
    "_Normal Distributions (Approximately)_"
   ]
  },
  {
   "cell_type": "markdown",
   "metadata": {},
   "source": [
    "When testing for two independent samples it can be difficult to estimate an expected effect size using Cohen's d. This is mainly due to the fact that we don't know if our variation is going to influence all users within our test group. Thus, you could choose a value from the table above as proxy."
   ]
  },
  {
   "cell_type": "code",
   "execution_count": 34,
   "metadata": {},
   "outputs": [
    {
     "data": {
      "text/plain": [
       "\n",
       "     Two-sample t test power calculation \n",
       "\n",
       "              n = 482063\n",
       "              d = 0.005706461\n",
       "      sig.level = 0.05\n",
       "          power = 0.8\n",
       "    alternative = two.sided\n",
       "\n",
       "NOTE: n is number in *each* group\n"
      ]
     },
     "metadata": {},
     "output_type": "display_data"
    }
   ],
   "source": [
    "# Sample size estimation for equal sample sizes\n",
    "# Source: https://www.statmethods.net/stats/power.html\n",
    "require(pwr)\n",
    "\n",
    "# Plug-in proxy for effect size ...\n",
    "effect_size <- 0.01\n",
    "\n",
    "# ... or estimate Cohen's d based on MDE (e.g. 5% improvement)\n",
    "mde <- 0.05\n",
    "effect_size <- cohens_d(data_control, mde=mde)\n",
    "\n",
    "# Estimate sample size n1 for first sample\n",
    "pwr.t.test(\n",
    "    d = effect_size,\n",
    "    sig.level = 0.05,\n",
    "    power = 0.8,\n",
    "    alternative = 'two.sided'\n",
    ")"
   ]
  },
  {
   "cell_type": "markdown",
   "metadata": {},
   "source": [
    "#### Test for Two Independent Proportions\n",
    "_Binomial Distributions_"
   ]
  },
  {
   "cell_type": "markdown",
   "metadata": {},
   "source": [
    "As opposed to two (approximately) normally distributed independent samples you have much more control when working with proportions (e.g. conversion rates). Starting out from you current baseline you can simply apply the expected improvement based on your practical significance boundaries."
   ]
  },
  {
   "cell_type": "code",
   "execution_count": null,
   "metadata": {},
   "outputs": [],
   "source": [
    "# Sample size estimation for equal sample sizes\n",
    "# Source: https://www.statmethods.net/stats/power.html\n",
    "require(pwr)\n",
    "\n",
    "# Plug-in proxy for effect size ...\n",
    "effect_size <- 0.01\n",
    "\n",
    "# ... or estimate Cohen's h based on MDE (e.g. 5% improvement)\n",
    "mde <- 0.05\n",
    "effect_size <- cohens_h(data_control, mde=mde)\n",
    "\n",
    "# Estimate sample size n1 for first sample\n",
    "pwr.2p.test(\n",
    "    h = effect_size,\n",
    "    sig.level = 0.05,\n",
    "    power = 0.8,\n",
    "    alternative = 'two.sided'\n",
    ")"
   ]
  },
  {
   "cell_type": "markdown",
   "metadata": {},
   "source": [
    "### Minimum Detectable Effect Estimation"
   ]
  },
  {
   "cell_type": "markdown",
   "metadata": {},
   "source": [
    "Oftentimes we find ourselves in a situation where we have __external constraints on the size of our experiment__ (e.g. number of users). Given a fixed sample size for our test and control groups we can estimate what minimum detectable effect (MDE) we need to observe in order to achieve a desired level of measurement reliability. By using the knowledge about the size of our control group and its statistical properties we can estimate the minimum effect size required to achieve a significant test result. Finally, we use the estimated effect size and translate it to a minimum detectable effect."
   ]
  },
  {
   "cell_type": "markdown",
   "metadata": {},
   "source": [
    "#### Test for Two Independent Samples\n",
    "_Normal Distributions (Approximately)_"
   ]
  },
  {
   "cell_type": "code",
   "execution_count": 30,
   "metadata": {},
   "outputs": [
    {
     "data": {
      "text/html": [
       "0.0694405761981033"
      ],
      "text/latex": [
       "0.0694405761981033"
      ],
      "text/markdown": [
       "0.0694405761981033"
      ],
      "text/plain": [
       "[1] 0.06944058"
      ]
     },
     "metadata": {},
     "output_type": "display_data"
    }
   ],
   "source": [
    "# Minimum detectable effect (MDE) estimation for equal sample sizes\n",
    "require(pwr)\n",
    "\n",
    "# Function to estimatr minimum detectable effect (MDE) for two sample t-test\n",
    "mde.t.test <- function(x, d){\n",
    "    # Estimates minimum detectable effect for two sample t-test given Cohen's d\n",
    "    #\n",
    "    # Args:\n",
    "    # - x: Vector with data for control group\n",
    "    # - d: Cohen's d effect size measure\n",
    "    #\n",
    "    # Returns:\n",
    "    # - mde: Minimum detectable effect\n",
    "  \n",
    "    # Sample size\n",
    "    n1 <- max(length(x), 2)\n",
    "    n2 <- n1\n",
    "  \n",
    "    # Pooled standard deviation assuming equal sample size and variances\n",
    "    sd <- sqrt(((n1-1) * var(x) + (n2-1) * var(x)) / (n1 + n2 - 2))\n",
    "  \n",
    "    # Difference in means\n",
    "    diff_means <- d*sd\n",
    "  \n",
    "    # Return MDE\n",
    "    return(diff_means / mean(x))\n",
    "}\n",
    "\n",
    "\n",
    "# Cohen's d effect size for fixed sample size\n",
    "n1 <- 10000\n",
    "pwr.results <- pwr.t.test(\n",
    "    n = n1,\n",
    "    sig.level = 0.05,\n",
    "    power = 0.8,\n",
    "    alternative = 'two.sided'\n",
    ")\n",
    "\n",
    "# MDE\n",
    "d <- pwr.results$d\n",
    "mde.t.test(data_control, d)"
   ]
  },
  {
   "cell_type": "markdown",
   "metadata": {},
   "source": [
    "#### Test for Two Independent Proportions\n",
    "_Binomial Distributions_"
   ]
  },
  {
   "cell_type": "code",
   "execution_count": 29,
   "metadata": {},
   "outputs": [
    {
     "data": {
      "text/html": [
       "1.05971594665536"
      ],
      "text/latex": [
       "1.05971594665536"
      ],
      "text/markdown": [
       "1.05971594665536"
      ],
      "text/plain": [
       "[1] 1.059716"
      ]
     },
     "metadata": {},
     "output_type": "display_data"
    }
   ],
   "source": [
    "# Minimum detectable effect (MDE) estimation for equal sample sizes\n",
    "require(pwr)\n",
    "\n",
    "# Minimum detectable effect (MDE) for proportions with given effect size\n",
    "mde.2p.test <- function(x, h){\n",
    "    # Estimates minimum detectable effect for two sample binomial test\n",
    "    # given Cohen's h\n",
    "    #\n",
    "    # Args:\n",
    "    # - x: Either vector with data for control group or control group mean\n",
    "    # - h: Cohen's h effect size measure\n",
    "    #\n",
    "    # Returns:\n",
    "    # - mde: Minimum detectable effect\n",
    "  \n",
    "    # Proportions\n",
    "    p1 <- mean(x)\n",
    "    asin.p2 <- -(h + 2*asin(sqrt(p1)))\n",
    "    p2 <- sin(asin.p2 / 2) ** 2\n",
    "  \n",
    "    # Return MDE\n",
    "    return(p2/p1)\n",
    "}\n",
    "\n",
    "\n",
    "# Cohen's h effect size for fixed sample size\n",
    "n1 <- 100000\n",
    "pwr.results <- pwr.2p.test(\n",
    "    n = n1,\n",
    "    sig.level = 0.05,\n",
    "    power = 0.8,\n",
    "    alternative = 'two.sided'\n",
    ")\n",
    "\n",
    "# MDE\n",
    "h = pwr.results$h\n",
    "mde.2p.test(data_control, h)"
   ]
  }
 ],
 "metadata": {
  "kernelspec": {
   "display_name": "R",
   "language": "R",
   "name": "ir"
  },
  "language_info": {
   "codemirror_mode": "r",
   "file_extension": ".r",
   "mimetype": "text/x-r-source",
   "name": "R",
   "pygments_lexer": "r",
   "version": "3.6.2"
  }
 },
 "nbformat": 4,
 "nbformat_minor": 4
}
