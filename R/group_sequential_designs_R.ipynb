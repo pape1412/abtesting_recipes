{
 "cells": [
  {
   "cell_type": "markdown",
   "metadata": {},
   "source": [
    "# A/B Testing - Sequential Testing"
   ]
  },
  {
   "cell_type": "markdown",
   "metadata": {},
   "source": [
    "## Background"
   ]
  },
  {
   "cell_type": "markdown",
   "metadata": {},
   "source": [
    "When running an A/B test we typically decide on its __runtime in advance__ by considering results from a power analysis and most likely additional external factors (e.g. measurement of long-term effects). Even though monitoring dashboards are almost always in place to inform all stakeholders involved with an experiment's ongoing performance, we need to be __careful with continuously testing__ each group against the other. The reason for this is that multiple testing can __inflate the type I error rate__ ($\\alpha$-error). Simply by repeating the comparison of our null hypothesis $H0$ against our alternative $H1$ we will increase the probability of a particular outcome even if this outcome is very unlikely. In fact, the experiment-wise error rate which represents the overall error rate over a series of tests is going increase from $\\alpha$ to $1 − (1−\\alpha) * n$ where $n$ is the number of individual tests. Thus, in order to maintain an A/B test's significance level of e.g. $\\alpha = .05$ one has to be much more conservative at each individual test. Among others this notebook covers __two different approaches__ on how to do multiple testing (and early stopping) correctly:\n",
    "\n",
    "- [Group Sequential Designs](#Group-Sequential-Designs)\n",
    "- [Mixture Sequential Probability Ratio Tests (mSPRT)](#Mixture-Sequential-Probability-Ratio-Test-(mSPRT))"
   ]
  },
  {
   "cell_type": "markdown",
   "metadata": {},
   "source": [
    "## Group Sequential Designs"
   ]
  },
  {
   "cell_type": "markdown",
   "metadata": {},
   "source": [
    "Group sequential test designs were first developed in the context of clinical trials where ethical reasons require researchers to continously monitor experiments and stop them early when possible. In order to __control for an inflating $\\alpha$-error rate__ of multiple tests, group sequential designs use a technique called __error-spending functions__. Under the assumption of normality, a spending functions estimates an adjusted test statistic for each stage of the experiment so that the overall $\\alpha$-error level is maintained. The series of test statistics represents an upper/lower decision boundary in a one-sided test i.e. represents both in a two-sided test.\n",
    "\n",
    "The most simple spending function spreads the error rate evenly over the different testing times and results in constant, so-called Pocock type decision boundaries. This approach follows the assumption that all data collected during an experiment is evenly distributed between testing times. Unfortunately, this assumption is not met most of the times, especially not within an online environment where traffic varies widely and users are not distinct between one day and the other. A more appropriate alternative, first developed by [Lan & DeMets (1983)](https://eclass.uoa.gr/modules/document/file.php/MATH301/PracticalSession3/Lan_DeMets_1983.pdf), is to __spend the error according to the fraction of information gathered__ at time of analysis. Despite that, we may wish to be more conservative in early stages of an A/B test, thus use much wider decision boundaries (which require much smaller p-values of individual tests in order to stop early) than towards the end. Two types of decision boundaries which fullfill such criteria can be achieved by using an [O’Brien-Fleming-type error spending function](https://eclass.uoa.gr/modules/document/file.php/MATH301/PracticalSession3/Lan_DeMets_1983.pdf) or a [Hwang-Shih-DeCani-type gamma error spending function](https://onlinelibrary.wiley.com/doi/abs/10.1002/sim.4780091207) with $\\gamma = −4$, whereas the latter is a generalization to the former.\n",
    "\n",
    "In order to __derive decision boundaries__ for a sequential analysis of an A/B test we need to follow a couple of different steps:\n",
    "1. __Power analysis__ to estimate a tests minimum sample size and runtime\n",
    "2. Definition of __group sequential design__\n",
    "    1. Decision on __number of individual tests__ to run\n",
    "    2. Anaysis of expected __relative traffic between individual tests__ (as cumulated percentage that sums up to one)\n",
    "    3. Estimation of adjusted __test statistics__ i.e $z$-scores for lower and/or upper decision boundaries\n",
    "\n",
    "Luckily, a bunch of smart people have already done most of the heavy lifting for us and put most of the complex calculations into ```R``` __libraries__ such as ```pwr``` for running power analyses and ```gsDesign``` for decision boundary computations. In order to illustrate how these steps look in detail we imagine an A/B test on max. 10% of whatever user base in which the implementation of a new feature aims to convert more users to doing something cool. "
   ]
  },
  {
   "cell_type": "markdown",
   "metadata": {},
   "source": [
    "### Power Analysis"
   ]
  },
  {
   "cell_type": "markdown",
   "metadata": {},
   "source": [
    "Similar to any other A/B test we start out by estimating the minimum required sample size and runtime by doing a power analysis."
   ]
  },
  {
   "cell_type": "code",
   "execution_count": 3,
   "metadata": {},
   "outputs": [
    {
     "data": {
      "text/html": [
       "156978"
      ],
      "text/latex": [
       "156978"
      ],
      "text/markdown": [
       "156978"
      ],
      "text/plain": [
       "[1] 156978"
      ]
     },
     "metadata": {},
     "output_type": "display_data"
    }
   ],
   "source": [
    "# Load libraries\n",
    "require(pwr)\n",
    "\n",
    "# Plug-in proxy for 'small' effect size ...\n",
    "effect_size <- 0.01\n",
    "\n",
    "# Estimate sample size n1 for first sample\n",
    "n1 <- pwr.2p.test(\n",
    "    h = effect_size,\n",
    "    sig.level = 0.05,\n",
    "    power = 0.8,\n",
    "    alternative = 'two.sided'\n",
    ")$n\n",
    "ceiling(n1)"
   ]
  },
  {
   "cell_type": "markdown",
   "metadata": {},
   "source": [
    "Next, we'll need to figure out __how long it will approximately take until we've observed this many users__ in a single group. In the A/B test example we are simply going to look how the number of unique users of the old feature accumulates over time and then multiply this number by .1 to match the maximum size of our test group."
   ]
  },
  {
   "cell_type": "code",
   "execution_count": 20,
   "metadata": {},
   "outputs": [
    {
     "data": {
      "text/html": [
       "<style>\n",
       ".list-inline {list-style: none; margin:0; padding: 0}\n",
       ".list-inline>li {display: inline-block}\n",
       ".list-inline>li:not(:last-child)::after {content: \"\\00b7\"; padding: 0 .5ex}\n",
       "</style>\n",
       "<ol class=list-inline><li>23</li><li>24</li><li>25</li><li>26</li><li>27</li><li>28</li><li>29</li><li>30</li><li>31</li></ol>\n"
      ],
      "text/latex": [
       "\\begin{enumerate*}\n",
       "\\item 23\n",
       "\\item 24\n",
       "\\item 25\n",
       "\\item 26\n",
       "\\item 27\n",
       "\\item 28\n",
       "\\item 29\n",
       "\\item 30\n",
       "\\item 31\n",
       "\\end{enumerate*}\n"
      ],
      "text/markdown": [
       "1. 23\n",
       "2. 24\n",
       "3. 25\n",
       "4. 26\n",
       "5. 27\n",
       "6. 28\n",
       "7. 29\n",
       "8. 30\n",
       "9. 31\n",
       "\n",
       "\n"
      ],
      "text/plain": [
       "[1] 23 24 25 26 27 28 29 30 31"
      ]
     },
     "metadata": {},
     "output_type": "display_data"
    }
   ],
   "source": [
    "# Create dataframe with toy data\n",
    "weeks <- c(seq(23,31,1))\n",
    "users <- c(506456,784703,999654,1190597,1377913,1533096,1664629,1776549,1882559)\n",
    "obs <- data.frame(weeks, users)\n",
    "names(obs) <- c(\"week\",\"n_users\")\n",
    "\n",
    "# Preview data\n",
    "obs"
   ]
  },
  {
   "cell_type": "code",
   "execution_count": 21,
   "metadata": {},
   "outputs": [
    {
     "data": {
      "text/html": [
       "<style>\n",
       ".list-inline {list-style: none; margin:0; padding: 0}\n",
       ".list-inline>li {display: inline-block}\n",
       ".list-inline>li:not(:last-child)::after {content: \"\\00b7\"; padding: 0 .5ex}\n",
       "</style>\n",
       "<ol class=list-inline><li>50646</li><li>78471</li><li>99966</li><li>119060</li><li>137792</li><li>153310</li><li>166463</li><li>177655</li><li>188256</li></ol>\n"
      ],
      "text/latex": [
       "\\begin{enumerate*}\n",
       "\\item 50646\n",
       "\\item 78471\n",
       "\\item 99966\n",
       "\\item 119060\n",
       "\\item 137792\n",
       "\\item 153310\n",
       "\\item 166463\n",
       "\\item 177655\n",
       "\\item 188256\n",
       "\\end{enumerate*}\n"
      ],
      "text/markdown": [
       "1. 50646\n",
       "2. 78471\n",
       "3. 99966\n",
       "4. 119060\n",
       "5. 137792\n",
       "6. 153310\n",
       "7. 166463\n",
       "8. 177655\n",
       "9. 188256\n",
       "\n",
       "\n"
      ],
      "text/plain": [
       "[1]  50646  78471  99966 119060 137792 153310 166463 177655 188256"
      ]
     },
     "metadata": {},
     "output_type": "display_data"
    }
   ],
   "source": [
    "# Maximum test group ratio of user base\n",
    "test_share <- 0.1\n",
    "\n",
    "# Compare adjusted number of senders\n",
    "ceiling(obs$n_users * test_share)"
   ]
  },
  {
   "cell_type": "markdown",
   "metadata": {},
   "source": [
    "As we only pass the required number of users of 156.978 in week 7, we now know that our test needs to run at least 7 weeks before we can be certain to declare even a very small difference between test and control groups significant."
   ]
  },
  {
   "cell_type": "markdown",
   "metadata": {},
   "source": [
    "### Definition of Design"
   ]
  },
  {
   "cell_type": "markdown",
   "metadata": {},
   "source": [
    "Now that we know how long our A/B test needs to run we can decide on __how many intermediate tests__ should be done. One way to approach this question is to use the minimum required runtime as guidance. In our example we need to have the test running for a minimum of 7 weeks. So in order to speed up things we could decide to do one intermediate test after every week and if we're lucky the difference between both groups is large enough to stop the test early. Despite that, we saw above that the __number of unique users does not always scale linearly__ with time and we need to control for this in our group sequential design.\n",
    "\n",
    "The most __important parameters__ to specify for our group sequential design based on the ```gsDesign``` library are as follows:\n",
    "- __test.type:__ 1 = One-sided; 2 = Two-sided (symmetric)\n",
    "- __alpha:__ Type I error (e.g. 0.025 for overall type I error rate of 0.05 in two-sided test)\n",
    "- __beta:__ Type II error (e.g. 0.2 for power of 1 - 0.2 = 0.8)\n",
    "- __k:__ Number of tests\n",
    "- __n.fix:__ Number of observations for both groups (input from power analysis)\n",
    "- __timing:__ Time between tests as a normalized sequence that sums up to 1 (e.g. t2 = 0.4 means the second interim analysis includes the first 40% of planned observations)\n",
    "- __sfu:__ Spending function (e.g. sfLDOF for conservative Lan-DeMets spending function with O'Brien-Fleming bounds)\n",
    "\n",
    "For more information on (additional) parameters please use ```?gsDesign``` or refer to ```gsDesign``` [vignette](https://r-forge.r-project.org/scm/viewvc.php/*checkout*/pkg/gsDesign/inst/doc/gsDesignManual.pdf?revision=124&root=gsdesign)."
   ]
  },
  {
   "cell_type": "markdown",
   "metadata": {},
   "source": [
    "One of the parameters outlined above still needs a bit thinking before we can finally come up with the first deisgn and that's __timing__. Timing represents a normalized sequence of cumulative user counts over the runtime of an experiment. What that exactly means becomes much clearer when looking at the numbers from our example:"
   ]
  },
  {
   "cell_type": "code",
   "execution_count": 22,
   "metadata": {},
   "outputs": [
    {
     "data": {
      "text/html": [
       "<table>\n",
       "<caption>A matrix: 7 × 2 of type dbl</caption>\n",
       "<thead>\n",
       "\t<tr><th scope=col>n_users</th><th scope=col>n_users_nrmd</th></tr>\n",
       "</thead>\n",
       "<tbody>\n",
       "\t<tr><td> 506456</td><td>0.3042456</td></tr>\n",
       "\t<tr><td> 784703</td><td>0.4713981</td></tr>\n",
       "\t<tr><td> 999654</td><td>0.6005266</td></tr>\n",
       "\t<tr><td>1190597</td><td>0.7152326</td></tr>\n",
       "\t<tr><td>1377913</td><td>0.8277598</td></tr>\n",
       "\t<tr><td>1533096</td><td>0.9209836</td></tr>\n",
       "\t<tr><td>1664629</td><td>1.0000000</td></tr>\n",
       "</tbody>\n",
       "</table>\n"
      ],
      "text/latex": [
       "A matrix: 7 × 2 of type dbl\n",
       "\\begin{tabular}{ll}\n",
       " n\\_users & n\\_users\\_nrmd\\\\\n",
       "\\hline\n",
       "\t  506456 & 0.3042456\\\\\n",
       "\t  784703 & 0.4713981\\\\\n",
       "\t  999654 & 0.6005266\\\\\n",
       "\t 1190597 & 0.7152326\\\\\n",
       "\t 1377913 & 0.8277598\\\\\n",
       "\t 1533096 & 0.9209836\\\\\n",
       "\t 1664629 & 1.0000000\\\\\n",
       "\\end{tabular}\n"
      ],
      "text/markdown": [
       "\n",
       "A matrix: 7 × 2 of type dbl\n",
       "\n",
       "| n_users | n_users_nrmd |\n",
       "|---|---|\n",
       "|  506456 | 0.3042456 |\n",
       "|  784703 | 0.4713981 |\n",
       "|  999654 | 0.6005266 |\n",
       "| 1190597 | 0.7152326 |\n",
       "| 1377913 | 0.8277598 |\n",
       "| 1533096 | 0.9209836 |\n",
       "| 1664629 | 1.0000000 |\n",
       "\n"
      ],
      "text/plain": [
       "     n_users n_users_nrmd\n",
       "[1,]  506456 0.3042456   \n",
       "[2,]  784703 0.4713981   \n",
       "[3,]  999654 0.6005266   \n",
       "[4,] 1190597 0.7152326   \n",
       "[5,] 1377913 0.8277598   \n",
       "[6,] 1533096 0.9209836   \n",
       "[7,] 1664629 1.0000000   "
      ]
     },
     "metadata": {},
     "output_type": "display_data"
    }
   ],
   "source": [
    "# Expected cumulated unique user counts over the course of the experiment\n",
    "n_users <- obs$n_users[1:7]\n",
    "\n",
    "# Normalized sequences of above counts so they sum up to 1\n",
    "n_users_nrmd <- n_users / max(n_users)\n",
    "\n",
    "# Print results\n",
    "cbind(n_users, n_users_nrmd)"
   ]
  },
  {
   "cell_type": "markdown",
   "metadata": {},
   "source": [
    "Finally, we can __plug in the required parameter values__ in the ```gsDesign()``` function. For this we use a two-sided test with an overall type I error rate of .5 and power of .8. Error spending is based a Lan-DeMets spending function with O'Brien-Fleming bounds. Recall, these type of bounds are much more conservative in the beginning of the test."
   ]
  },
  {
   "cell_type": "code",
   "execution_count": 10,
   "metadata": {},
   "outputs": [
    {
     "data": {
      "text/plain": [
       "Symmetric two-sided group sequential design with\n",
       "80 % power and 2.5 % Type I Error.\n",
       "Spending computations assume trial stops\n",
       "if a bound is crossed.\n",
       "\n",
       "                 \n",
       "  Analysis     N   Z   Nominal p  Spend\n",
       "         1  99273 3.90    0.0000 0.0000\n",
       "         2 153813 3.07    0.0011 0.0010\n",
       "         3 195946 2.70    0.0035 0.0027\n",
       "         4 233374 2.47    0.0068 0.0042\n",
       "         5 270090 2.29    0.0111 0.0057\n",
       "         6 300508 2.17    0.0149 0.0058\n",
       "         7 326290 2.09    0.0182 0.0055\n",
       "     Total                       0.0250 \n",
       "\n",
       "++ alpha spending:\n",
       " Lan-DeMets O'brien-Fleming approximation spending function.\n",
       "\n",
       "Boundary crossing probabilities and expected sample size\n",
       "assume any cross stops the trial\n",
       "\n",
       "Upper boundary (power or Type I Error)\n",
       "          Analysis\n",
       "  Theta      1      2      3      4      5      6      7 Total     E{N}\n",
       "  0.000 0.0000 0.0010 0.0027 0.0042 0.0057 0.0058 0.0055 0.025 323472.5\n",
       "  0.005 0.0101 0.1247 0.1854 0.1734 0.1468 0.0958 0.0638 0.800 251501.0\n",
       "\n",
       "Lower boundary (futility or Type II Error)\n",
       "          Analysis\n",
       "  Theta 1     2      3      4      5      6      7 Total\n",
       "  0.000 0 0.001 0.0027 0.0042 0.0057 0.0058 0.0055 0.025\n",
       "  0.005 0 0.000 0.0000 0.0000 0.0000 0.0000 0.0000 0.000"
      ]
     },
     "metadata": {},
     "output_type": "display_data"
    }
   ],
   "source": [
    "# Load libraries\n",
    "require(gsDesign)\n",
    "\n",
    "# gsDesign object for two-sided test based on conservative Lan-DeMets\n",
    "# spending function with O'Brien-Fleming bounds\n",
    "design <- gsDesign(\n",
    "    test.type = 2, alpha = 0.025, beta = 0.2,\n",
    "    n.fix = 2*ceiling(n1), k = 7, timing = n_users_nrmd,\n",
    "    sfu = sfLDOF\n",
    ")\n",
    "design"
   ]
  },
  {
   "cell_type": "markdown",
   "metadata": {},
   "source": [
    "As you can see from the output above the benefit of testing sequentially comes at the cost of a __slighty increased sample size__. Instead of 156.978 users per group the design needs 326.290 / 2 = 163.145 (+4%) instead.\n",
    "\n",
    "Last, but not least, we __plot the decision boundaries__ for our sequential design."
   ]
  },
  {
   "cell_type": "code",
   "execution_count": 11,
   "metadata": {},
   "outputs": [
    {
     "data": {
      "text/html": [
       "<table>\n",
       "<thead><tr><th scope=col>time</th><th scope=col>zero</th><th scope=col>lower</th><th scope=col>upper</th></tr></thead>\n",
       "<tbody>\n",
       "\t<tr><td>1        </td><td>0        </td><td>-3.898838</td><td>3.898838 </td></tr>\n",
       "\t<tr><td>2        </td><td>0        </td><td>-3.067407</td><td>3.067407 </td></tr>\n",
       "\t<tr><td>3        </td><td>0        </td><td>-2.698873</td><td>2.698873 </td></tr>\n",
       "\t<tr><td>4        </td><td>0        </td><td>-2.466512</td><td>2.466512 </td></tr>\n",
       "\t<tr><td>5        </td><td>0        </td><td>-2.286500</td><td>2.286500 </td></tr>\n",
       "\t<tr><td>6        </td><td>0        </td><td>-2.173505</td><td>2.173505 </td></tr>\n",
       "\t<tr><td>7        </td><td>0        </td><td>-2.092822</td><td>2.092822 </td></tr>\n",
       "</tbody>\n",
       "</table>\n"
      ],
      "text/latex": [
       "\\begin{tabular}{r|llll}\n",
       " time & zero & lower & upper\\\\\n",
       "\\hline\n",
       "\t 1         & 0         & -3.898838 & 3.898838 \\\\\n",
       "\t 2         & 0         & -3.067407 & 3.067407 \\\\\n",
       "\t 3         & 0         & -2.698873 & 2.698873 \\\\\n",
       "\t 4         & 0         & -2.466512 & 2.466512 \\\\\n",
       "\t 5         & 0         & -2.286500 & 2.286500 \\\\\n",
       "\t 6         & 0         & -2.173505 & 2.173505 \\\\\n",
       "\t 7         & 0         & -2.092822 & 2.092822 \\\\\n",
       "\\end{tabular}\n"
      ],
      "text/markdown": [
       "\n",
       "time | zero | lower | upper | \n",
       "|---|---|---|---|---|---|---|\n",
       "| 1         | 0         | -3.898838 | 3.898838  | \n",
       "| 2         | 0         | -3.067407 | 3.067407  | \n",
       "| 3         | 0         | -2.698873 | 2.698873  | \n",
       "| 4         | 0         | -2.466512 | 2.466512  | \n",
       "| 5         | 0         | -2.286500 | 2.286500  | \n",
       "| 6         | 0         | -2.173505 | 2.173505  | \n",
       "| 7         | 0         | -2.092822 | 2.092822  | \n",
       "\n",
       "\n"
      ],
      "text/plain": [
       "  time zero lower     upper   \n",
       "1 1    0    -3.898838 3.898838\n",
       "2 2    0    -3.067407 3.067407\n",
       "3 3    0    -2.698873 2.698873\n",
       "4 4    0    -2.466512 2.466512\n",
       "5 5    0    -2.286500 2.286500\n",
       "6 6    0    -2.173505 2.173505\n",
       "7 7    0    -2.092822 2.092822"
      ]
     },
     "metadata": {},
     "output_type": "display_data"
    },
    {
     "ename": "ERROR",
     "evalue": "Error in melt(test_bounds, id = \"time\"): could not find function \"melt\"\n",
     "output_type": "error",
     "traceback": [
      "Error in melt(test_bounds, id = \"time\"): could not find function \"melt\"\nTraceback:\n"
     ]
    }
   ],
   "source": [
    "# Store results in data.frame\n",
    "test_bounds <- data.frame(\n",
    "    time = seq(1, design$k, by=1),\n",
    "    zero = array(0, dim=design$k),\n",
    "    lower = design$lower$bound,\n",
    "    upper = design$upper$bound,\n",
    "    stringsAsFactors = FALSE\n",
    ")\n",
    "test_bounds\n",
    "\n",
    "# Convert to long format\n",
    "test_bounds_long <- melt(test_bounds, id = \"time\")"
   ]
  },
  {
   "cell_type": "code",
   "execution_count": 288,
   "metadata": {},
   "outputs": [
    {
     "data": {
      "image/png": "[encoded data removed]",
      "text/plain": [
       "plot without title"
      ]
     },
     "metadata": {},
     "output_type": "display_data"
    }
   ],
   "source": [
    "# Load libraries\n",
    "require(\"reshape2\")\n",
    "require(\"ggplot2\")\n",
    "require('repr')\n",
    "\n",
    "# Change plot size\n",
    "options(repr.plot.width=8, repr.plot.height=5)\n",
    "\n",
    "# Plot\n",
    "labels <- c(\"Zero Difference\", \"Lower Bound\", \"Upper Bound\")\n",
    "bounds_plot <- ggplot(data = test_bounds_long, aes(x = time, y = value, group = variable)) +\n",
    "       geom_line(aes(linetype=variable, color=variable)) + \n",
    "       scale_linetype_manual(values = c(\"dashed\", \"solid\", \"solid\"), labels = labels) +\n",
    "       geom_point() + geom_text(aes(label = round(value,2)), hjust = .5, vjust = 1.5) +\n",
    "       scale_color_manual(values = c(\"black\", \"red\", \"red\"), labels = labels) +\n",
    "       labs(title = 'Sequential early stopping boundaries using Lan-DeMets alpha spending function', subtitle = 'Symmetric two-sided O´Brien-Fleming boundaries') +\n",
    "       xlab('Time (Testing Checkpoints e.g. Calendar Weeks)') + \n",
    "       ylab('Z Scores') +\n",
    "       theme(legend.title=element_blank())\n",
    "\n",
    "bounds_plot"
   ]
  },
  {
   "cell_type": "markdown",
   "metadata": {},
   "source": [
    "With upper and lower decision boundaries in place we're now able to test for differences between test and control groups on a weekly basis over the course of our experiment. As __boundaries are given by $z$-scores__ we need to make sure not to compare apples to oranges thus __run intermediate tests as $z$-tests__ as well. The value of $z$ can be calculated at each step as follows:\n",
    "\n",
    "__Continious Outcomes:__\n",
    "\n",
    "\\begin{equation*}\n",
    " z = \\frac{\\mu_1 - \\mu_2}{\\sqrt{\\frac{\\sigma_1^2}{n_1} + \\frac{\\sigma_2^2}{n_2}}}\n",
    "\\end{equation*}\n",
    "\n",
    "__Proportions:__\n",
    "\n",
    "\\begin{equation*}\n",
    " z= \\frac{p1 - p2}{\\sqrt{\\frac{1}{n_1}p_1(1-p_1) + \\frac{1}{n_2}p_2(1-p_2)}}\n",
    "\\end{equation*}\n",
    "\n",
    "\n",
    "While the value of $z$ is easy to calculate for proportions we typically run into an __issue of an unknown population standard deviation__ $\\sigma$ for continuous outcomes. However, unless we only have tiny amounts of data we will simply plug in values from our samples. If you don't want to calculate values for $z$ by hand you can the ```z.test()``` function from the ```BSDA``` library."
   ]
  },
  {
   "cell_type": "code",
   "execution_count": 13,
   "metadata": {},
   "outputs": [
    {
     "data": {
      "text/plain": [
       "\n",
       "\tTwo-sample z-Test\n",
       "\n",
       "data:  a and b\n",
       "z = 0.89054, p-value = 0.3732\n",
       "alternative hypothesis: true difference in means is not equal to 0\n",
       "95 percent confidence interval:\n",
       " -0.002837559  0.007563436\n",
       "sample estimates:\n",
       " mean of x  mean of y \n",
       "0.03360591 0.03124298 \n"
      ]
     },
     "metadata": {},
     "output_type": "display_data"
    }
   ],
   "source": [
    "# Example usage of z.test()\n",
    "require('BSDA')\n",
    "\n",
    "# Define groups\n",
    "a <- c(rep(1, 300), rep(0, 8927-300))\n",
    "b <- c(rep(1, 278), rep(0, 8898-278))\n",
    "\n",
    "# Run test\n",
    "z.test(a, b, alternative = \"two.sided\", sigma.x = sd(a), sigma.y = sd(b), conf.level = 0.95)"
   ]
  },
  {
   "cell_type": "markdown",
   "metadata": {},
   "source": [
    "### Adjustment of Timing"
   ]
  },
  {
   "cell_type": "markdown",
   "metadata": {},
   "source": [
    "As the experiment starts running and we have observations coming in it's not unusual that the __timing and number of analysis may change__. Let's say we observe 5% less users than expected after week 1 then we could use the following two parameters to adjust our testing plan: \n",
    "\n",
    "- __n.I:__ Actual number of observations at given sequential test (e.g. c(155, 1698, 1987) for three sequential tests)\n",
    "- __maxn.IPlan:__ Original number of observations (should be passed if the sample size for the final analysis is changed)"
   ]
  },
  {
   "cell_type": "code",
   "execution_count": 343,
   "metadata": {},
   "outputs": [
    {
     "data": {
      "text/html": [
       "<table>\n",
       "<tbody>\n",
       "\t<tr><td> 99292.35</td><td> 94327.74</td></tr>\n",
       "\t<tr><td>153820.35</td><td>153820.35</td></tr>\n",
       "\t<tr><td>195949.04</td><td>195949.04</td></tr>\n",
       "\t<tr><td>233369.03</td><td>233369.03</td></tr>\n",
       "\t<tr><td>270080.50</td><td>270080.50</td></tr>\n",
       "\t<tr><td>300503.52</td><td>300503.52</td></tr>\n",
       "\t<tr><td>326289.69</td><td>326289.69</td></tr>\n",
       "</tbody>\n",
       "</table>\n"
      ],
      "text/latex": [
       "\\begin{tabular}{ll}\n",
       "\t  99292.35 &  94327.74\\\\\n",
       "\t 153820.35 & 153820.35\\\\\n",
       "\t 195949.04 & 195949.04\\\\\n",
       "\t 233369.03 & 233369.03\\\\\n",
       "\t 270080.50 & 270080.50\\\\\n",
       "\t 300503.52 & 300503.52\\\\\n",
       "\t 326289.69 & 326289.69\\\\\n",
       "\\end{tabular}\n"
      ],
      "text/markdown": [
       "\n",
       "|  99292.35 |  94327.74 | \n",
       "| 153820.35 | 153820.35 | \n",
       "| 195949.04 | 195949.04 | \n",
       "| 233369.03 | 233369.03 | \n",
       "| 270080.50 | 270080.50 | \n",
       "| 300503.52 | 300503.52 | \n",
       "| 326289.69 | 326289.69 | \n",
       "\n",
       "\n"
      ],
      "text/plain": [
       "     [,1]      [,2]     \n",
       "[1,]  99292.35  94327.74\n",
       "[2,] 153820.35 153820.35\n",
       "[3,] 195949.04 195949.04\n",
       "[4,] 233369.03 233369.03\n",
       "[5,] 270080.50 270080.50\n",
       "[6,] 300503.52 300503.52\n",
       "[7,] 326289.69 326289.69"
      ]
     },
     "metadata": {},
     "output_type": "display_data"
    }
   ],
   "source": [
    "# Show current and adjusted number of observations per interim analysis\n",
    "cbind(\n",
    "    design$n.I, # current\n",
    "    c(design$n.I[1] * 0.95, design$n.I[-1]) # adjusted\n",
    ")"
   ]
  },
  {
   "cell_type": "code",
   "execution_count": 344,
   "metadata": {},
   "outputs": [
    {
     "name": "stdout",
     "output_type": "stream",
     "text": [
      "[1] \"Initial boundaries:\"\n"
     ]
    },
    {
     "data": {
      "text/html": [
       "<table>\n",
       "<tbody>\n",
       "\t<tr><td>-3.898409</td><td>3.898409 </td></tr>\n",
       "\t<tr><td>-3.067324</td><td>3.067324 </td></tr>\n",
       "\t<tr><td>-2.698854</td><td>2.698854 </td></tr>\n",
       "\t<tr><td>-2.466546</td><td>2.466546 </td></tr>\n",
       "\t<tr><td>-2.286549</td><td>2.286549 </td></tr>\n",
       "\t<tr><td>-2.173513</td><td>2.173513 </td></tr>\n",
       "\t<tr><td>-2.092814</td><td>2.092814 </td></tr>\n",
       "</tbody>\n",
       "</table>\n"
      ],
      "text/latex": [
       "\\begin{tabular}{ll}\n",
       "\t -3.898409 & 3.898409 \\\\\n",
       "\t -3.067324 & 3.067324 \\\\\n",
       "\t -2.698854 & 2.698854 \\\\\n",
       "\t -2.466546 & 2.466546 \\\\\n",
       "\t -2.286549 & 2.286549 \\\\\n",
       "\t -2.173513 & 2.173513 \\\\\n",
       "\t -2.092814 & 2.092814 \\\\\n",
       "\\end{tabular}\n"
      ],
      "text/markdown": [
       "\n",
       "| -3.898409 | 3.898409  | \n",
       "| -3.067324 | 3.067324  | \n",
       "| -2.698854 | 2.698854  | \n",
       "| -2.466546 | 2.466546  | \n",
       "| -2.286549 | 2.286549  | \n",
       "| -2.173513 | 2.173513  | \n",
       "| -2.092814 | 2.092814  | \n",
       "\n",
       "\n"
      ],
      "text/plain": [
       "     [,1]      [,2]    \n",
       "[1,] -3.898409 3.898409\n",
       "[2,] -3.067324 3.067324\n",
       "[3,] -2.698854 2.698854\n",
       "[4,] -2.466546 2.466546\n",
       "[5,] -2.286549 2.286549\n",
       "[6,] -2.173513 2.173513\n",
       "[7,] -2.092814 2.092814"
      ]
     },
     "metadata": {},
     "output_type": "display_data"
    },
    {
     "name": "stdout",
     "output_type": "stream",
     "text": [
      "[1] \"Adjusted boundaries:\"\n"
     ]
    },
    {
     "data": {
      "text/html": [
       "<table>\n",
       "<tbody>\n",
       "\t<tr><td>-4.007884</td><td>4.007884 </td></tr>\n",
       "\t<tr><td>-3.065676</td><td>3.065676 </td></tr>\n",
       "\t<tr><td>-2.698711</td><td>2.698711 </td></tr>\n",
       "\t<tr><td>-2.466503</td><td>2.466503 </td></tr>\n",
       "\t<tr><td>-2.286531</td><td>2.286531 </td></tr>\n",
       "\t<tr><td>-2.173502</td><td>2.173502 </td></tr>\n",
       "\t<tr><td>-2.092807</td><td>2.092807 </td></tr>\n",
       "</tbody>\n",
       "</table>\n"
      ],
      "text/latex": [
       "\\begin{tabular}{ll}\n",
       "\t -4.007884 & 4.007884 \\\\\n",
       "\t -3.065676 & 3.065676 \\\\\n",
       "\t -2.698711 & 2.698711 \\\\\n",
       "\t -2.466503 & 2.466503 \\\\\n",
       "\t -2.286531 & 2.286531 \\\\\n",
       "\t -2.173502 & 2.173502 \\\\\n",
       "\t -2.092807 & 2.092807 \\\\\n",
       "\\end{tabular}\n"
      ],
      "text/markdown": [
       "\n",
       "| -4.007884 | 4.007884  | \n",
       "| -3.065676 | 3.065676  | \n",
       "| -2.698711 | 2.698711  | \n",
       "| -2.466503 | 2.466503  | \n",
       "| -2.286531 | 2.286531  | \n",
       "| -2.173502 | 2.173502  | \n",
       "| -2.092807 | 2.092807  | \n",
       "\n",
       "\n"
      ],
      "text/plain": [
       "     [,1]      [,2]    \n",
       "[1,] -4.007884 4.007884\n",
       "[2,] -3.065676 3.065676\n",
       "[3,] -2.698711 2.698711\n",
       "[4,] -2.466503 2.466503\n",
       "[5,] -2.286531 2.286531\n",
       "[6,] -2.173502 2.173502\n",
       "[7,] -2.092807 2.092807"
      ]
     },
     "metadata": {},
     "output_type": "display_data"
    }
   ],
   "source": [
    "# Adjust number of observations\n",
    "n_adj <- c(design$n.I[1] * 0.95, design$n.I[-1])\n",
    "\n",
    "# Adjust boundaries\n",
    "design_adj <- gsDesign(\n",
    "    test.type = 2, alpha = 0.025, beta = 0.2,\n",
    "    k = 7, n.I = n_adj,\n",
    "    # maxn.IPlan = 2*ceiling(n1) # <- only used if sample size of final analysis changed\n",
    "    sfu = sfLDOF\n",
    ")\n",
    "\n",
    "# Compare initial to new boundaries\n",
    "print('Initial boundaries:')\n",
    "cbind(design$lower$bound, design$upper$bound)\n",
    "\n",
    "print('Adjusted boundaries:')\n",
    "cbind(design_adj$lower$bound, design_adj$upper$bound)"
   ]
  },
  {
   "cell_type": "markdown",
   "metadata": {},
   "source": [
    "## Final Notes"
   ]
  },
  {
   "cell_type": "markdown",
   "metadata": {},
   "source": [
    "### Symmetry of Tests\n",
    "In the majority of experiments we attempt to observe an improvement over an existing solution. While discussions about the direction of an effect are typically centered around uplifts, we tend to forget that a variation can also show negative influence on the behavior of users. Thus, as we ask ourselves _'How much better does our variation have to be, to be practically significant?'_, we need to ask _'How much worse do we allow our variation to be, to be equivalent?'_, too. Whatever the answer might be, it should be considered in the decison on sequential stopping boundaries."
   ]
  },
  {
   "cell_type": "markdown",
   "metadata": {},
   "source": [
    "### Bias\n",
    "Experiments that are stopped early tend to overestimate the true effect e.g. the true difference between test and control groups. This is simply due to the fact, that effect sizes need to be large when samples sizes are (still) small in order to reach statistical significance"
   ]
  },
  {
   "cell_type": "markdown",
   "metadata": {},
   "source": [
    "## References\n",
    "- [A Multiple Testing Procedure for Clinical Trials](ftp://maia-2.biostat.wisc.edu/pub/chappell/641/papers/paper34.pdf)\n",
    "- [Discrete Sequential Boundaries for Clinical Trials](https://eclass.uoa.gr/modules/document/file.php/MATH301/PracticalSession3/Lan_DeMets_1983.pdf)\n",
    "- [How to Do A/B Testing with Early Stopping Correctly](https://www.aarondefazio.com/adefazio-seqtesting.pdf)\n",
    "- [How to Experiment Rapidly without Losing Rigour](https://deliveroo.engineering/2018/10/22/how-to-experiment-rapidly-without-losing-rigour.html)\n",
    "- [Interim Analysis: The Alpha Spending Function Approach](https://eclass.uoa.gr/modules/document/file.php/MATH301/PracticalSession3/LanDeMets.pdf)\n",
    "- [Multiple Hypothesis Testing and False Discovery Rate](https://www.stat.berkeley.edu/~hhuang/STAT141/Lecture-FDR.pdf)\n",
    "- [Improving Experimentation Efficiency at Netflix](https://medium.com/netflix-techblog/improving-experimentation-efficiency-at-netflix-with-meta-analysis-and-optimal-stopping-d8ec290ae5be)\n",
    "- [Wikipedia](https://en.wikipedia.org/wiki/Sequential_analysis)"
   ]
  }
 ],
 "metadata": {
  "kernelspec": {
   "display_name": "R",
   "language": "R",
   "name": "ir"
  },
  "language_info": {
   "codemirror_mode": "r",
   "file_extension": ".r",
   "mimetype": "text/x-r-source",
   "name": "R",
   "pygments_lexer": "r",
   "version": "3.6.2"
  }
 },
 "nbformat": 4,
 "nbformat_minor": 4
}
