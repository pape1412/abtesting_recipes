{
 "cells": [
  {
   "cell_type": "markdown",
   "metadata": {},
   "source": [
    "# Survey Design - Sample Size"
   ]
  },
  {
   "cell_type": "markdown",
   "metadata": {},
   "source": [
    "Your primary concern when conducting a survey should not be with the meaning, but with the __reliability of results__. An important factor for drawing general conclusions from a survey is its sample size. As opposed to running a power analysis for A/B tests, decisions on minimum required __sample sizes for surveys are based on confidence intervals__, thus the level of uncertainty one is willing to accept when reporting population estimates sunch means or proportions.\n",
    "\n",
    "Depending on a survey's target KPI there are different ways to estimate a minimum required sample size. However, they do share similar input parameters:\n",
    "- __Margin of error:__\n",
    "    - The margin of error marks the amount of deviation around the true value (that we try to estimate with our survey) we are willing to accept. It's typically set to $ ME ≤ 0.05$ (smaller or equal to 5%) and is half the width of the confidence interval.\n",
    "- __Alpha:__\n",
    "    - $Type I$ error or probability of finding an effect when there is none (false positive). It's used to define the confidence level which represents the degree of certainty we aim to have in the range of possible true values given by our population estimate and it's margin of error. Typically, you'd choose a 5% $Type I$ error rate for 95% confidence (100-5), thus set $\\alpha = 0.05$.\n",
    "- __Size of population:__\n",
    "    - Oftentimes we don't know exactly how large the underlying population of our survey is, but if we have an idea of its size (and it's not infite) we can use this information to correct our sample size estimate:\n",
    "    \n",
    "    $n_corr = \\frac{nN}{n+N-1}$,\n",
    "    \n",
    "    where $n$ is the estimated minimum required sample size and $N$ is the size of the population."
   ]
  },
  {
   "cell_type": "markdown",
   "metadata": {},
   "source": [
    "## Continuous Outcome\n",
    "_Normal Distributions (Approximately)_"
   ]
  },
  {
   "cell_type": "markdown",
   "metadata": {},
   "source": [
    "The __minimum required sample size__ for survey designs with continuous outcome can be approximated as follows:\n",
    "\n",
    "$N = (\\frac{Z*S}{Err})^2$,\n",
    "\n",
    "where\n",
    "- $Z$ is the z-score i.e. value from the normal distribution representing your confidence level (e.g. 1.96 for 95% confidence)\n",
    "- $S$ is the population standard deviation\n",
    "- $Err$ is the margin of error (e.g. 0.05 for 5%)\n",
    "\n",
    "The problem with this method is that the __population standard deviation is rarely known in advance__ unless previous results from similar studies are available. As work-around one could use the six-sigma rule for bell shaped distributions which says 98% of observations lie within 6 standard deviations (3 to each side around the mean). Thus, the standard deviation is measured as the range of oberservations divided by 6 i.e.\n",
    "\n",
    "$S = \\frac{Max-Min}{6}$ \n"
   ]
  },
  {
   "cell_type": "code",
   "execution_count": 58,
   "metadata": {},
   "outputs": [
    {
     "name": "stdout",
     "output_type": "stream",
     "text": [
      "[1] \"Number of required survey participants: 683\"\n",
      "[1] \"Number of required sendouts: 3415\"\n"
     ]
    }
   ],
   "source": [
    "# Sample size function for surveys with continuous outcome\n",
    "n.cont <- function(sd=NULL, min=1, max=5, alpha = 0.05, err = 0.05, N = Inf){\n",
    "    # Estimates single sample size for surveys where outcome\n",
    "    # is represented as proportion\n",
    "    #\n",
    "    # Args:\n",
    "    # - sd: Expected standard deviation of outcome\n",
    "    # - min: Minimum of outcome variable (default set to 1 for 5 point likert skala)\n",
    "    # - max: Maximum of outcome variable (default set to 5 for 5 point likert skala)\n",
    "    # - alpha: Type I error rate (typically set to 0.01, 0.05 or 0.10)\n",
    "    # - err: Margin of error (typically set between 0.10 and 0.01)\n",
    "    # - N: Population size for finite populations\n",
    "    #\n",
    "    # Returns:\n",
    "    # - n: Number of required participants\n",
    "    \n",
    "    if (is.null(sd)){\n",
    "        sd <- (max-min) / 6\n",
    "    }\n",
    "    \n",
    "    # Estimate z-Score\n",
    "    z <- qnorm(1 - alpha/2)\n",
    "    \n",
    "    # Estimate sample size for infinite populations ...\n",
    "    if (N == Inf){\n",
    "        n <- ceiling((z * sd / err)^2)\n",
    "    \n",
    "    # ... or correct sample size for finite populations\n",
    "    } else if (!is.null(N)){\n",
    "        n <- (z * sd / err)^2\n",
    "        n <- ceiling((n*N) / (n+N-1))\n",
    "    }\n",
    "    \n",
    "    # Return sample size\n",
    "    return(n)\n",
    "}\n",
    "\n",
    "\n",
    "# Estimate sample size\n",
    "n_participants <- n.cont()\n",
    "print(paste0('Number of required survey participants: ', n_participants))\n",
    "\n",
    "\n",
    "# Estimate sendout volume in order to achieve required response n\n",
    "expected_response <- 0.2\n",
    "n_sendouts <- n_participants / expected_response\n",
    "print(paste0('Number of required sendouts: ', n_sendouts))"
   ]
  },
  {
   "cell_type": "markdown",
   "metadata": {},
   "source": [
    "## Proportions\n",
    "_Binomial Distributions_"
   ]
  },
  {
   "cell_type": "markdown",
   "metadata": {},
   "source": [
    "The __minimum required sample size__ for survey designs with binary outcomes can be approximated as follows:\n",
    "\n",
    "$N = (\\frac{Z}{Err})^2 p (1-p)$,\n",
    "\n",
    "where\n",
    "- $Z$ is the z-score i.e. critical value from the normal distribution representing your confidence level (e.g. 1.96 for 95% confidence)\n",
    "- $p$ is the expected proportion of the characteristic of interest\n",
    "- $Err$ is the margin of error (e.g. 0.05 for 5%)\n",
    "\n",
    "Similar to the standard deviation in the equation for continuous outcomes, we have to decide on a value that's oftentimes unknow in advance, $p$. In the __most conservative setting where we have no idea about the true value of $p$__ we'd choose $p = 0.5$. If $p > 0.5$ you should estimate your survey's sample size based on the proportion NOT to have the characteristic of interest.\n",
    "\n",
    "Apparently, this type of sample size calculation is the one __predominantly used in survey sample size calculators on the web__."
   ]
  },
  {
   "cell_type": "code",
   "execution_count": 59,
   "metadata": {},
   "outputs": [
    {
     "name": "stdout",
     "output_type": "stream",
     "text": [
      "[1] \"Number of required survey participants: 385\"\n",
      "[1] \"Number of required sendouts: 1925\"\n"
     ]
    }
   ],
   "source": [
    "# Sample size function for surveys with categorical outcome\n",
    "n.prop <- function(p = 0.5, alpha = 0.05, err = 0.05, N = Inf){\n",
    "    # Estimates single sample size for surveys where outcome\n",
    "    # is represented as proportion\n",
    "    #\n",
    "    # Args:\n",
    "    # - p: Expected proportion of outcome (0.5 = maximum uncertainty)\n",
    "    # - alpha: Type I error rate (typically set to 0.01, 0.05 or 0.10)\n",
    "    # - err: Margin of error (typically set between 0.1 and 0.01)\n",
    "    # - N: Population size for finite populations\n",
    "    #\n",
    "    # Returns:\n",
    "    # - n: Number of required participants\n",
    "    \n",
    "    # Estimate z-Score\n",
    "    z <- qnorm(1 - alpha/2)\n",
    "    \n",
    "    # Estimate sample size for infinite populations ...\n",
    "    if (N == Inf){\n",
    "        n <- ceiling(z^2 * p*(1-p) / err^2)\n",
    "    \n",
    "    # ... or correct sample size for finite populations\n",
    "    } else if (!is.null(N)){\n",
    "        n <- z^2 * p*(1-p) / err^2\n",
    "        n <- ceiling((n*N) / (n+N-1))\n",
    "    }\n",
    "    \n",
    "    # Return sample size\n",
    "    return(n)\n",
    "}\n",
    "\n",
    "\n",
    "# Estimate sample size\n",
    "n_participants <- n.prop()\n",
    "print(paste0('Number of required survey participants: ', n_participants))\n",
    "\n",
    "\n",
    "# Estimate sendout volume in order to achieve required response n\n",
    "expected_response <- 0.2\n",
    "n_sendouts <- n_participants / expected_response\n",
    "print(paste0('Number of required sendouts: ', n_sendouts))"
   ]
  },
  {
   "cell_type": "markdown",
   "metadata": {},
   "source": [
    "## References\n",
    "- [Appropriate Sample Size in Survey Research](https://www.opalco.com/wp-content/uploads/2014/10/Reading-Sample-Size1.pdf)\n",
    "- [Sample Size Estimation](https://www.google.com/url?sa=t&rct=j&q=&esrc=s&source=web&cd=11&ved=2ahUKEwjyh-uX-aTjAhUtQRUIHcmsCnY4ChAWMAB6BAgBEAI&url=http%3A%2F%2Fwww.columbia.edu%2F~mvp19%2FRMC%2FM6%2FM6.doc&usg=AOvVaw2Nu7fWpm6dLxk5Q770x643)\n",
    "- [Sample Size For Single Proportions](https://www.stat.auckland.ac.nz/~wild/ChanceEnc/Ch08.psampsize.pdf)\n",
    "- [Determining Sample Size](https://pdfs.semanticscholar.org/aee4/333d7f9f2d8ae8ad2f193dba35548901d370.pdf)\n"
   ]
  },
  {
   "cell_type": "code",
   "execution_count": null,
   "metadata": {},
   "outputs": [],
   "source": []
  }
 ],
 "metadata": {
  "kernelspec": {
   "display_name": "R",
   "language": "R",
   "name": "ir"
  },
  "language_info": {
   "codemirror_mode": "r",
   "file_extension": ".r",
   "mimetype": "text/x-r-source",
   "name": "R",
   "pygments_lexer": "r",
   "version": "3.6.2"
  }
 },
 "nbformat": 4,
 "nbformat_minor": 4
}
