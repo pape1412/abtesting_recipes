{
 "cells": [
  {
   "cell_type": "markdown",
   "metadata": {},
   "source": [
    "# A/B Testing - Bootstrap Hypothesis Testing"
   ]
  },
  {
   "cell_type": "markdown",
   "metadata": {},
   "source": [
    "As opposed to $t$-test's a comparison of two samples via bootstrapping __doesn't require any assumptions__ such as normally distributed data. The bootstrap allows you to __work directly with the test statistic of interest__ (e.g. means instead of $t$ statistics) while making abstract concepts like sampling distributions, confidence intervals or Central Limit Theorem concrete. It's also not limited to the comparison of means.\n",
    "\n",
    "In an A/B test we typically compare two or more samples - test and control groups - with each other which we consider to represent the general population of users. The __idea behind bootstrapping__ is to again randomly draw samples from each of the groups - not to get a better estimate of the population, but to get an estimate of how accurate our measurements are. Another important point to remember is that the bootstrap does not create something out of nothing, it rather __reflects the original samples__. The bootstrap distribution will always be centered at a given statistic of your sample (e.g. mean). Thus, if test and control groups are narrower/wider than the population the resulting bootstrap distribution will be narrower/wider than the population. It also __doesn't solve the problem of small sample sizes__ for making valid inference and especially when sample sizes are small ($n \\le$ 34) bootstrapping can lead to inaccurate results."
   ]
  },
  {
   "cell_type": "markdown",
   "metadata": {},
   "source": [
    "## Prepare Data"
   ]
  },
  {
   "cell_type": "code",
   "execution_count": 36,
   "metadata": {},
   "outputs": [],
   "source": [
    "# Read in sample data\n",
    "data_control <- read.csv2(\"data/test_data_control.csv\")$x\n",
    "data_test <- read.csv2(\"data/test_data_test.csv\")$x"
   ]
  },
  {
   "cell_type": "code",
   "execution_count": 37,
   "metadata": {},
   "outputs": [
    {
     "name": "stdout",
     "output_type": "stream",
     "text": [
      "[1] \"Control group sample size: 1322095 & mean: 0.69085 & SD: 2.37184\"\n",
      "[1] \"Test group sample size: 1322111 & mean: 0.69797 & SD: 2.41535\"\n"
     ]
    }
   ],
   "source": [
    "# Compare means and standard deviations\n",
    "print(paste(\"Control group sample size:\", length(data_control),\n",
    "            \"& mean:\", round(mean(data_control), 5),\n",
    "            \"& SD:\", round(sd(data_control), 5)))\n",
    "print(paste(\"Test group sample size:\", length(data_test),\n",
    "            \"& mean:\", round(mean(data_test), 5),\n",
    "            \"& SD:\", round(sd(data_test), 5)))"
   ]
  },
  {
   "cell_type": "code",
   "execution_count": null,
   "metadata": {},
   "outputs": [],
   "source": [
    "# Check for outliers ...\n",
    "print(quantile(data_control, probs=c(0.9, 0.99, 0.999, 0.9999)))\n",
    "print(quantile(data_test, probs=c(0.9, 0.99, 0.999, 0.9999)))\n",
    "\n",
    "# ... and remove if considered to be necessary\n",
    "#data_control <- data_control[data_control <= quantile(data_control, probs=0.9999)]\n",
    "#data_test <- data_test[data_test <= quantile(data_test, probs=0.9999)]"
   ]
  },
  {
   "cell_type": "markdown",
   "metadata": {},
   "source": [
    "## Test Statistic\n",
    "Even though we use sample means for a comparison of test and control groups most of the time we could also use __any other test statistic of interest__. What's really nice about the bootstrap is that we don't need to learn how to conduct another test if we wanted to compare other statistics but means. Instead we apply the same methodology that we are already familiar with."
   ]
  },
  {
   "cell_type": "code",
   "execution_count": 38,
   "metadata": {},
   "outputs": [
    {
     "data": {
      "text/html": [
       "0"
      ],
      "text/latex": [
       "0"
      ],
      "text/markdown": [
       "0"
      ],
      "text/plain": [
       "[1] 0"
      ]
     },
     "metadata": {},
     "output_type": "display_data"
    },
    {
     "data": {
      "text/html": [
       "0.00712190304414284"
      ],
      "text/latex": [
       "0.00712190304414284"
      ],
      "text/markdown": [
       "0.00712190304414284"
      ],
      "text/plain": [
       "[1] 0.007121903"
      ]
     },
     "metadata": {},
     "output_type": "display_data"
    }
   ],
   "source": [
    "# Test statistic for comparison (e.g. mean or variance)\n",
    "diff.vars  <- function(x,y) var(x) - var(y)\n",
    "diff.means <- function(x,y) mean(x) - mean(y)\n",
    "\n",
    "# H0: There is no difference between test & control groups\n",
    "h0 <- 0\n",
    "h0\n",
    "\n",
    "# Observed difference between groups  (e.g. mean or variance)\n",
    "obs.diff <- diff.vars(data_test, data_control)\n",
    "obs.diff <- diff.means(data_test, data_control)\n",
    "obs.diff"
   ]
  },
  {
   "cell_type": "markdown",
   "metadata": {},
   "source": [
    "## Bootstrap Test\n",
    "The process for comparing two independent samples of an A/B test via bootstrapping can be outlined as follows (for implementation details see function below):\n",
    "1. __Repeat__ $r \\ge$ 10000 times:\n",
    "    - __Draw random samples__ of size n with replacement from estimates of the population represented by test and control group\n",
    "    - __Compute the test statistic__ of interest e.g. the difference in means\n",
    "2. __Make inference__ on the resulting bootstrap distribution i.e. the distribution of the test statistics e.g. calculate confidence intervals of distribution and reject $H0$ if it fails to include value of test statistic you are testing for (e.g. $H0$: There is no difference between test & control groups)\n",
    "\n",
    "To answer to the question on __how many samples should be drawn__ is answered by the literature with $r \\ge$ 10000 resamples for routine use and $r \\ge$ 15000 resamples when greater accuracy matters. In fact using more bootstrap samples typically don't change center, spread and/or shape of the distribution, but only reduce variability."
   ]
  },
  {
   "cell_type": "code",
   "execution_count": 7,
   "metadata": {},
   "outputs": [],
   "source": [
    "# Bootstrapping test function\n",
    "bootstrap.test <- function(x, y, test.statistic, resamples=1000) {\n",
    "    # Runs two sample bootstrapping test for test statistic of interest\n",
    "    #\n",
    "    # Args:\n",
    "    # - x: Vector with data for either test or control group\n",
    "    # - y: Vector with data for either test or control group\n",
    "    # - test.statistic: A function which compares groups\n",
    "    # - resamples: Number of bootstrap samples to draw (defaults to 1000)\n",
    "    #\n",
    "    # Returns:\n",
    "    # Distribution of test statistic\n",
    "    \n",
    "    # Size of original samples\n",
    "    size.x  <- length(x)\n",
    "    size.y <- length(y)\n",
    "  \n",
    "    # Bootstrapping function\n",
    "    bootstrap.samples <- function() {\n",
    "        # Sample from test & control with replacement\n",
    "        boot.x  <- sample(x, size.x, replace = TRUE)\n",
    "        boot.y <- sample(y, size.y, replace = TRUE)\n",
    "    \n",
    "        # Apply test statistis\n",
    "        test.statistic(boot.x, boot.y)\n",
    "    }\n",
    "    # Draw n bootstrap samples of test & control with replacement (bootstrapping)\n",
    "    # and compute test statistic\n",
    "    replicate(resamples, bootstrap.samples())\n",
    "}"
   ]
  },
  {
   "cell_type": "markdown",
   "metadata": {},
   "source": [
    "## Confidence Intervals\n",
    "A decision on accepting or rejecting the null hypothesis of our experiment is based on confidence intervals of the bootstrap distribution. In its most simple form these are based on __bootstrap percentiles intervals__ e.g. 2.5% and 97.5% percentiles for a 95% confidence interval. However, percentiles only work reasonably well when sample sizes are large ($n \\ge$ 2400) and our data is not too skewed. Especially when working with small samples ($n \\ge$ 101) one can use __bootstrap-$t$ confidence intervals__.\n",
    "\n",
    "A test based on bootstrap-$t$ confidence intervals __estimates the actual distribution of a $t$ statistic__ by bootstrapping it and then uses the quantiles of the distribution in the confidence intervals. The bootstrapped $t$ statistic is defined as:\n",
    "\n",
    "\\begin{equation*}\n",
    "\\ t^* = \\frac{\\hat{\\theta}^* - \\theta}{\\hat{S}^*}\n",
    "\\end{equation*}\n",
    "\n",
    "with $\\hat{\\theta}$ being our estimate (e.g. difference in means $x_1-x_2$) and $\\hat{S}$ being the standard error of the original sample and * denotes the parameters estimated from for \\$i$th bootstrap sample.\n",
    "\n",
    "Furthermore, let $q_α$ be the $\\alpha$ quantile of the bootstrap-$t$ distribution, then the confidence interval is defined as:\n",
    "\n",
    "$\\ (\\hat{\\theta} - q_{1 - \\alpha/2}\\hat{S}, \\hat{\\theta} - q_{\\alpha/2}\\hat{S}) $\n",
    "\n",
    "with the upper quantile of the bootstrap-$t$ distribution bein used for the lower endpoint, and vice versa.\n",
    "\n",
    "The following function implements bootstrap-t confidence intervals. A __comparison of both__ bootstrap percentile and bootstrap-t intervals is shown in the last section below. Even though computationally more intense we recommend using __bootstrap-$t$ confidence intervals for accurate results__.\n",
    "\n",
    "For more details on the theoretical background of confidence intervals for bootstrap test please refer to the [paper linked in the references](https://arxiv.org/pdf/1411.5279.pdf)."
   ]
  },
  {
   "cell_type": "code",
   "execution_count": 8,
   "metadata": {},
   "outputs": [],
   "source": [
    "# Confidence intervals for bootstrap-t are defined as follows for 95% interval:\n",
    "# Lower (0.025 = 0.05 / 2) = (observed difference in means - (bootstrap-t upper limit) * observed SE from original samples)\n",
    "# Upper (0.975 = 1 - 0.05 / 2) = (observed difference in means - (bootstrap-t lower limit) * observed SE from orginal samples)\n",
    "\n",
    "# Bootstrap-t confidence interval function\n",
    "bootstrap.t <- function(x, y, test.statistic, alpha = 0.05, resamples = 1000) {\n",
    "    # Estimates bootstrap-t confidence intervals for two sample bootstrap test\n",
    "    # with test statistic of interest\n",
    "    #\n",
    "    # Args:\n",
    "    # - x: Vector with data for either test or control group\n",
    "    # - y: Vector with data for either test or control group\n",
    "    # - test.statistic: A function which compares groups\n",
    "    # - alpha: Accepted type I error rate (defaults to 0.05)\n",
    "    # - resamples: Number of bootstrap samples to draw (defaults to 1000)\n",
    "    #\n",
    "    # Returns:\n",
    "    # intervals: Bootstrap-t confidence intervals for statistic of interest\n",
    "    \n",
    "    # Define limits\n",
    "    ci.lower <- alpha / 2\n",
    "    ci.upper <- 1 - (alpha / 2)\n",
    "    \n",
    "    # Define paramters of original samples\n",
    "    size.x <- length(x)\n",
    "    size.y <- length(y)\n",
    "  \n",
    "    obs.diff <- test.statistic(x, y)\n",
    "    se <- sqrt((var(x) / size.x) + (var(y) / size.y))\n",
    "  \n",
    "    # Bootstrap resampling function\n",
    "    bootstrap.samples <- function() {\n",
    "        # Draw n bootstrap samples of test & control with replacement (bootstrapping)\n",
    "        boot.x  <- sample(x, size.x, replace = TRUE)\n",
    "        boot.y <- sample(y, size.y, replace = TRUE)\n",
    "        \n",
    "        # Calculate t statistic of bootstrap samples\n",
    "        (test.statistic(boot.x, boot.y) - obs.diff) / sqrt((var(boot.x) / length(boot.x)) + (var(boot.y) / length(boot.y)))\n",
    "    }\n",
    "    \n",
    "    # Draw n bootstrap samples of test & control with replacement (bootstrapping)\n",
    "    # and compute test statistic, the bootstrap t\n",
    "    bootstrap.t <- replicate(resamples, bootstrap.samples())\n",
    "  \n",
    "    # Derive bootstrap-t confidence intervals\n",
    "    intervals <- obs.diff - quantile(bootstrap.t, probs = c(ci.upper, ci.lower)) * se\n",
    "    names(intervals) <- c(paste0(ci.lower * 100,\"%\"), paste0(ci.upper * 100, \"%\"))\n",
    "    \n",
    "    return(intervals)\n",
    "}"
   ]
  },
  {
   "cell_type": "markdown",
   "metadata": {},
   "source": [
    "## Results\n",
    "Finally, we can do both run the boostrap test and estimate the corresponding confidence intervals before making final decision on rejecting/accepting $H0$. Then, we can plot a histrogram of our boostrap distribution (e.g. distribution of difference in means), add in confidence intervals and the value of our null hypothesis and make inference. If the __confidence interval fails to include the value representing our null hypothesis we will reject it__. Nonetheless, we can never be completely sure that the null hypothesis is false as we only make inference based on the data."
   ]
  },
  {
   "cell_type": "code",
   "execution_count": 50,
   "metadata": {},
   "outputs": [],
   "source": [
    "# Run bootstrapping test and compute bootstrap-t confidence intervals\n",
    "# for given Type I error rate (alpha)\n",
    "# This may take a while to run dependent on the number of resamples\n",
    "alpha <- 0.05\n",
    "bootstrap.results <- bootstrap.test(data_test, data_control, diff.means, 10000)\n",
    "bootstrap.ci <- bootstrap.t(data_test, data_control, diff.means, alpha, 10000)"
   ]
  },
  {
   "cell_type": "code",
   "execution_count": 51,
   "metadata": {},
   "outputs": [
    {
     "data": {
      "image/png": "[encoded data removed]",
      "text/plain": [
       "Plot with title “Bootstrap Distribution of Difference in Means”"
      ]
     },
     "metadata": {},
     "output_type": "display_data"
    }
   ],
   "source": [
    "# Set plot size (specific to jupyter notebook)\n",
    "require(repr)\n",
    "options(repr.plot.width=8, repr.plot.height=4)\n",
    "\n",
    "# Plot results\n",
    "hist(bootstrap.results,\n",
    "     breaks = 100,\n",
    "     prob = T,\n",
    "     main = \"Bootstrap Distribution of Difference in Means\",\n",
    "     xlim = c(min(bootstrap.results, obs.diff), max(bootstrap.results, obs.diff)), \n",
    "     sub = ifelse(\n",
    "         # Reject H0 if confidence interval fails to include H0\n",
    "         h0 >= bootstrap.ci[1] & h0 <= bootstrap.ci[2], \n",
    "         paste0(\"H0 can not be rejected at alpha <= \", alpha), \n",
    "         paste0(\"H0 can be rejected at alpha <= \", alpha)),\n",
    "     xlab = paste(\n",
    "         \"Bootstrap-t\", (1-alpha)*100, \"% confidence interval between (\",\n",
    "         round(bootstrap.ci[1], 4), \",\", round(bootstrap.ci[2], 4), \")\"))\n",
    "\n",
    "# Add H0 and confidence interval limits\n",
    "abline(v = h0, lty = 2, col = \"black\") # H0: There is no difference between groups\n",
    "abline(v = bootstrap.ci[1], lty = 2, col = \"red\") # CI limit (lower)\n",
    "abline(v = bootstrap.ci[2], lty = 2, col = \"red\") # CI limit (upper)"
   ]
  },
  {
   "cell_type": "markdown",
   "metadata": {},
   "source": [
    "## Comparison\n",
    "The following cell is meant to give an idea on how hypothesis testing based on bootstrapping compares to a standard $t$-test. Also, it's meant to compare both type of bootstrap confidence interval namely percentile intervals and bootstrap-$t$. Especially with sample sizes as large as the sample data used in this notebook each of the tests comes to the same result of rejecting $H0$."
   ]
  },
  {
   "cell_type": "code",
   "execution_count": 52,
   "metadata": {},
   "outputs": [
    {
     "data": {
      "text/html": [
       "'Bootstrap-t 95 % confidence interval between ( 0.0014 , 0.0128 )'"
      ],
      "text/latex": [
       "'Bootstrap-t 95 \\% confidence interval between ( 0.0014 , 0.0128 )'"
      ],
      "text/markdown": [
       "'Bootstrap-t 95 % confidence interval between ( 0.0014 , 0.0128 )'"
      ],
      "text/plain": [
       "[1] \"Bootstrap-t 95 % confidence interval between ( 0.0014 , 0.0128 )\""
      ]
     },
     "metadata": {},
     "output_type": "display_data"
    },
    {
     "data": {
      "text/html": [
       "'Bootstrap percentile 95 % confidence interval between ( 0.0013 , 0.0128 )'"
      ],
      "text/latex": [
       "'Bootstrap percentile 95 \\% confidence interval between ( 0.0013 , 0.0128 )'"
      ],
      "text/markdown": [
       "'Bootstrap percentile 95 % confidence interval between ( 0.0013 , 0.0128 )'"
      ],
      "text/plain": [
       "[1] \"Bootstrap percentile 95 % confidence interval between ( 0.0013 , 0.0128 )\""
      ]
     },
     "metadata": {},
     "output_type": "display_data"
    },
    {
     "data": {
      "text/html": [
       "'T-test 95% confidence interval between ( 0.0014 , 0.0129 )'"
      ],
      "text/latex": [
       "'T-test 95\\% confidence interval between ( 0.0014 , 0.0129 )'"
      ],
      "text/markdown": [
       "'T-test 95% confidence interval between ( 0.0014 , 0.0129 )'"
      ],
      "text/plain": [
       "[1] \"T-test 95% confidence interval between ( 0.0014 , 0.0129 )\""
      ]
     },
     "metadata": {},
     "output_type": "display_data"
    }
   ],
   "source": [
    "# Compare bootstrap-t confidence intervals to bootstrap percentile intervals\n",
    "# and t-test confidence intervals\n",
    "paste(\"Bootstrap-t\", (1-alpha)*100, \"% confidence interval between (\",\n",
    "      round(bootstrap.ci[1], 4), \",\", round(bootstrap.ci[2], 4), \")\")\n",
    "paste(\"Bootstrap percentile\", (1-alpha)*100, \"% confidence interval between (\",\n",
    "      round(quantile(x = bootstrap.results, probs = c(.025)), 4), \",\", round(quantile(x = bootstrap.results, probs = c(.975)), 4), \")\")\n",
    "paste(\"T-test 95% confidence interval between (\",\n",
    "      round(t.test(data_test, data_control)$conf.int[1], 4), \",\", round(t.test(data_test, data_control)$conf.int[2], 4), \")\")"
   ]
  },
  {
   "cell_type": "markdown",
   "metadata": {},
   "source": [
    "## References\n",
    "- [What Teachers Should Know about the Bootstrap](https://arxiv.org/pdf/1411.5279.pdf)"
   ]
  },
  {
   "cell_type": "code",
   "execution_count": null,
   "metadata": {},
   "outputs": [],
   "source": []
  }
 ],
 "metadata": {
  "kernelspec": {
   "display_name": "R",
   "language": "R",
   "name": "ir"
  },
  "language_info": {
   "codemirror_mode": "r",
   "file_extension": ".r",
   "mimetype": "text/x-r-source",
   "name": "R",
   "pygments_lexer": "r",
   "version": "3.6.2"
  }
 },
 "nbformat": 4,
 "nbformat_minor": 4
}
